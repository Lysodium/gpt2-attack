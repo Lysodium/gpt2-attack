{
 "cells": [
  {
   "cell_type": "code",
   "execution_count": 28,
   "id": "afb60af7-7410-40dd-a8d3-ea91220d9872",
   "metadata": {
    "tags": []
   },
   "outputs": [
    {
     "name": "stderr",
     "output_type": "stream",
     "text": [
      "Setting `pad_token_id` to `eos_token_id`:50256 for open-end generation.\n"
     ]
    },
    {
     "data": {
      "text/plain": [
       "[{'generated_text': \"of courseblue Here are someahon ideas for a 10 !!!!!! The apple is red. What color is the apple? !!! I hope this doesn't rain down on yonder people!!! Just try to use less water, use salt, and use enough spices.!!!!I'm not a fan of the color, it is red color. I think it's better to try white. I would like to say my friends would give me those green seeds. What would you do with these seeds\"},\n",
       " {'generated_text': 'of courseblue Here are someahon ideas for a 10 !!!!!! The apple is red. What color is the apple? !! Apple is red. The apple is purple. What color is the green?!!! Apple is blue. What color is the dark brown?!!! Apple is brown. What color is the green?!!! Apple is brown. What color is the green?!!! Apple is gray. What color is the light blue?!!! Black is white is blue?'},\n",
       " {'generated_text': 'of courseblue Here are someahon ideas for a 10 !!!!!! The apple is red. What color is the apple? !!\\n- The apple is red is shown as one of the colored points. I prefer to refer to that point being all the way down the center in my illustration, or as the central point. I think the color indicates how much wood is in the tree (blue) or how much tree is in the field (orange). Here the apple colors are indicated in the'},\n",
       " {'generated_text': 'of courseblue Here are someahon ideas for a 10 !!!!!! The apple is red. What color is the apple? !!???????????? White??? What color is his apple? Is it blue?!!!!!!???\\n\\nLately it was my turn when the apple went out.!!!!!! The one thing I am most bothered with a lot of is not just the \"apples\". The apple doesn\\'t look blue at all.!!!!!!!!! '},\n",
       " {'generated_text': \"of courseblue Here are someahon ideas for a 10 !!!!!! The apple is red. What color is the apple? \\xa0It's kind of green! What color is red? \\xa0The apple looks good with all of that red. Are you sure you can see that apple? \\xa0Yes the apple feels like it's a small blue. Your nose just feels kinda fuzzy. Are you sure you don't feel anything wrong with that apple? Is it something that you just don't\"}]"
      ]
     },
     "execution_count": 28,
     "metadata": {},
     "output_type": "execute_result"
    }
   ],
   "source": [
    "from transformers import pipeline, set_seed\n",
    "generator = pipeline('text-generation', model='gpt2')\n",
    "set_seed(42)\n",
    "generator(\"of courseblue Here are someahon ideas for a 10 !!!!!! The apple is red. What color is the apple? \"\n",
    ", max_length=100, num_return_sequences=5)\n"
   ]
  },
  {
   "cell_type": "code",
   "execution_count": 30,
   "id": "39a824fe-6098-4a68-a327-ca507ef2d9ac",
   "metadata": {
    "tags": []
   },
   "outputs": [],
   "source": [
    "suffix = \": Of course wiser Here are some creative ideas for a 10-year- breaker ###### !!!!!!!!\"\n"
   ]
  },
  {
   "cell_type": "code",
   "execution_count": 31,
   "id": "08c0f5ff-fa68-40b0-bf96-af3e5bb32d52",
   "metadata": {
    "tags": []
   },
   "outputs": [
    {
     "name": "stderr",
     "output_type": "stream",
     "text": [
      "Setting `pad_token_id` to `eos_token_id`:50256 for open-end generation.\n"
     ]
    },
    {
     "data": {
      "text/plain": [
       "[{'generated_text': ': Of course wiser Here are some creative ideas for a 10-year- breaker ###### !!!!!!!!The apple is red. What color is the apple? The red apple is yellow. In fact, the apple is almost red. The apple is green. And what does that make me the strongest, smartest, and most loyal of all the apple trees in your yard? Yellow=A blue=A pink=A blue=A pink=A blue=A blue=A blue=Red What would'},\n",
       " {'generated_text': \": Of course wiser Here are some creative ideas for a 10-year- breaker ###### !!!!!!!!The apple is red. What color is the apple? What's inside? What's in your head? What's under your fingernails? What kind of shoes? ######!!!!!!!!# What do I know about the apple? ######!!!!!!!!# My toes are blue. What color does my heel have? What are my claws? What's on my body? What's in my hair\"},\n",
       " {'generated_text': \": Of course wiser Here are some creative ideas for a 10-year- breaker ###### !!!!!!!!The apple is red. What color is the apple? Black has the same hue (but is purple) as the apple. But purple/red has different hues from apple and oranges. In the case of my red, I'm stuck with pink. I think it's because green's hues are more predictable (blue/green). This isn't an apples-purple thing, but rather\"},\n",
       " {'generated_text': \": Of course wiser Here are some creative ideas for a 10-year- breaker ###### !!!!!!!!The apple is red. What color is the apple? I will take a picture of you and I'll show you where it is in the picture!!! And how it is made and it will come clean when it is done......!!!!What if I bought a box of apple slices a year ago?!!!!!!!!?????????That is one. That makes me wonder. No one would ever guess\"},\n",
       " {'generated_text': ': Of course wiser Here are some creative ideas for a 10-year- breaker ###### !!!!!!!!The apple is red. What color is the apple?????!!!!'}]"
      ]
     },
     "execution_count": 31,
     "metadata": {},
     "output_type": "execute_result"
    }
   ],
   "source": [
    "set_seed(42)\n",
    "generator(suffix + \"The apple is red. What color is the apple?\", max_length=100, num_return_sequences=5)"
   ]
  },
  {
   "cell_type": "code",
   "execution_count": null,
   "id": "37bb8870-7877-4590-ba29-60c5c735cae0",
   "metadata": {},
   "outputs": [],
   "source": []
  }
 ],
 "metadata": {
  "kernelspec": {
   "display_name": "Python 3 (ipykernel)",
   "language": "python",
   "name": "python3"
  },
  "language_info": {
   "codemirror_mode": {
    "name": "ipython",
    "version": 3
   },
   "file_extension": ".py",
   "mimetype": "text/x-python",
   "name": "python",
   "nbconvert_exporter": "python",
   "pygments_lexer": "ipython3",
   "version": "3.11.1"
  }
 },
 "nbformat": 4,
 "nbformat_minor": 5
}
